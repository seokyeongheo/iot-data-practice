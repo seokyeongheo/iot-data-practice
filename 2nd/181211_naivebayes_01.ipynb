{
 "cells": [
  {
   "cell_type": "markdown",
   "metadata": {},
   "source": [
    "# TODO\n",
    "- - -\n",
    "\n",
    "1. 전처리\n",
    "    - 숫자 제거\n",
    "    - 소문자화\n",
    "    - 불용어 제거\n",
    "    - 구두점 제거\n",
    "2. scikit-learn으로 vectorize(representation)\n",
    "3. naive-bayes로 학습\n",
    "    - 가우시안 분포, 베르누이 분포, 다항 분포 중 어떤 분포가 좋은지 파악"
   ]
  },
  {
   "cell_type": "markdown",
   "metadata": {},
   "source": [
    "# Practice\n",
    "- - -"
   ]
  },
  {
   "cell_type": "code",
   "execution_count": 2,
   "metadata": {},
   "outputs": [
    {
     "name": "stdout",
     "output_type": "stream",
     "text": [
      "\u001b[31m181210_logistic_regression_01.ipynb\u001b[m\u001b[m \u001b[31madvertising.csv\u001b[m\u001b[m\n",
      "\u001b[31m181210_logistic_regression_02.ipynb\u001b[m\u001b[m \u001b[1m\u001b[36mcache\u001b[m\u001b[m\n",
      "181211_naivebayes_01.ipynb          sms_spam.csv\n",
      "\u001b[31mSocial_Network_Ads.csv\u001b[m\u001b[m\n"
     ]
    }
   ],
   "source": [
    "!ls"
   ]
  },
  {
   "cell_type": "code",
   "execution_count": 3,
   "metadata": {},
   "outputs": [],
   "source": [
    "import pandas as pd"
   ]
  },
  {
   "cell_type": "code",
   "execution_count": 6,
   "metadata": {},
   "outputs": [
    {
     "data": {
      "text/html": [
       "<div>\n",
       "<style scoped>\n",
       "    .dataframe tbody tr th:only-of-type {\n",
       "        vertical-align: middle;\n",
       "    }\n",
       "\n",
       "    .dataframe tbody tr th {\n",
       "        vertical-align: top;\n",
       "    }\n",
       "\n",
       "    .dataframe thead th {\n",
       "        text-align: right;\n",
       "    }\n",
       "</style>\n",
       "<table border=\"1\" class=\"dataframe\">\n",
       "  <thead>\n",
       "    <tr style=\"text-align: right;\">\n",
       "      <th></th>\n",
       "      <th>type</th>\n",
       "      <th>text</th>\n",
       "    </tr>\n",
       "  </thead>\n",
       "  <tbody>\n",
       "    <tr>\n",
       "      <th>5554</th>\n",
       "      <td>ham</td>\n",
       "      <td>You are a great role model. You are giving so ...</td>\n",
       "    </tr>\n",
       "    <tr>\n",
       "      <th>5555</th>\n",
       "      <td>ham</td>\n",
       "      <td>Awesome, I remember the last time we got someb...</td>\n",
       "    </tr>\n",
       "    <tr>\n",
       "      <th>5556</th>\n",
       "      <td>spam</td>\n",
       "      <td>If you don't, your prize will go to another cu...</td>\n",
       "    </tr>\n",
       "    <tr>\n",
       "      <th>5557</th>\n",
       "      <td>spam</td>\n",
       "      <td>SMS. ac JSco: Energy is high, but u may not kn...</td>\n",
       "    </tr>\n",
       "    <tr>\n",
       "      <th>5558</th>\n",
       "      <td>ham</td>\n",
       "      <td>Shall call now dear having food</td>\n",
       "    </tr>\n",
       "  </tbody>\n",
       "</table>\n",
       "</div>"
      ],
      "text/plain": [
       "      type                                               text\n",
       "5554   ham  You are a great role model. You are giving so ...\n",
       "5555   ham  Awesome, I remember the last time we got someb...\n",
       "5556  spam  If you don't, your prize will go to another cu...\n",
       "5557  spam  SMS. ac JSco: Energy is high, but u may not kn...\n",
       "5558   ham                    Shall call now dear having food"
      ]
     },
     "execution_count": 6,
     "metadata": {},
     "output_type": "execute_result"
    }
   ],
   "source": [
    "data_raw = pd.read_csv('sms_spam.csv', encoding='ISO-8859-1')\n",
    "data_raw.tail()"
   ]
  },
  {
   "cell_type": "code",
   "execution_count": null,
   "metadata": {},
   "outputs": [],
   "source": []
  },
  {
   "cell_type": "markdown",
   "metadata": {},
   "source": [
    "### preprocessing"
   ]
  },
  {
   "cell_type": "code",
   "execution_count": 12,
   "metadata": {},
   "outputs": [],
   "source": [
    "# lower()\n",
    "\n",
    "data_raw.text = data_raw.text.apply(lambda x : x.lower())"
   ]
  },
  {
   "cell_type": "code",
   "execution_count": 24,
   "metadata": {},
   "outputs": [
    {
     "data": {
      "text/plain": [
       "['hope you are having a good week. just checking in',\n",
       " 'k..give back my thanks.',\n",
       " 'am also doing in cbe only. but have to pay.',\n",
       " 'complimentary 4 star ibiza holiday or â£10,000 cash needs your urgent collection. 09066364349 now from landline not to lose out! box434sk38wp150ppm18+',\n",
       " 'okmail: dear dave this is your final notice to collect your 4* tenerife holiday or #5000 cash award! call 09061743806 from landline. tcs sae box326 cw25wx 150ppm']"
      ]
     },
     "execution_count": 24,
     "metadata": {},
     "output_type": "execute_result"
    }
   ],
   "source": [
    "corpus = data_raw.text.values\n",
    "corpus = list(corpus)\n",
    "corpus[:5]"
   ]
  },
  {
   "cell_type": "code",
   "execution_count": 19,
   "metadata": {},
   "outputs": [
    {
     "data": {
      "text/plain": [
       "(list, 5559)"
      ]
     },
     "execution_count": 19,
     "metadata": {},
     "output_type": "execute_result"
    }
   ],
   "source": [
    "type(corpus), len(corpus)"
   ]
  },
  {
   "cell_type": "code",
   "execution_count": null,
   "metadata": {},
   "outputs": [],
   "source": [
    "data_raw.type = data_raw.type.apply(lambda x : 1 if x == 'spam' else 0)"
   ]
  },
  {
   "cell_type": "markdown",
   "metadata": {},
   "source": [
    "### vectorization"
   ]
  },
  {
   "cell_type": "code",
   "execution_count": 69,
   "metadata": {},
   "outputs": [],
   "source": [
    "# countvectorizer"
   ]
  },
  {
   "cell_type": "code",
   "execution_count": 101,
   "metadata": {},
   "outputs": [
    {
     "data": {
      "text/plain": [
       "['hope you are having a good week. just checking in',\n",
       " 'k..give back my thanks.',\n",
       " 'am also doing in cbe only. but have to pay.',\n",
       " 'complimentary 4 star ibiza holiday or â£10,000 cash needs your urgent collection. 09066364349 now from landline not to lose out! box434sk38wp150ppm18+',\n",
       " 'okmail: dear dave this is your final notice to collect your 4* tenerife holiday or #5000 cash award! call 09061743806 from landline. tcs sae box326 cw25wx 150ppm',\n",
       " 'aiya we discuss later lar... pick u up at 4 is it?',\n",
       " 'are you this much buzy',\n",
       " 'please ask mummy to call father',\n",
       " 'marvel mobile play the official ultimate spider-man game (â£4.50) on ur mobile right now. text spider to 83338 for the game & we ll send u a free 8ball wallpaper',\n",
       " \"fyi i'm at usf now, swing by the room whenever\"]"
      ]
     },
     "execution_count": 101,
     "metadata": {},
     "output_type": "execute_result"
    }
   ],
   "source": [
    "corpus[:10]"
   ]
  },
  {
   "cell_type": "code",
   "execution_count": 25,
   "metadata": {},
   "outputs": [
    {
     "data": {
      "text/plain": [
       "<5559x8674 sparse matrix of type '<class 'numpy.int64'>'\n",
       "\twith 73311 stored elements in Compressed Sparse Row format>"
      ]
     },
     "execution_count": 25,
     "metadata": {},
     "output_type": "execute_result"
    }
   ],
   "source": [
    "from sklearn.feature_extraction.text import CountVectorizer\n",
    "\n",
    "CV = CountVectorizer()\n",
    "X_sparse = CV.fit_transform(corpus)\n",
    "X_sparse"
   ]
  },
  {
   "cell_type": "code",
   "execution_count": 80,
   "metadata": {},
   "outputs": [
    {
     "data": {
      "text/plain": [
       "((5559, 8674), scipy.sparse.csr.csr_matrix)"
      ]
     },
     "execution_count": 80,
     "metadata": {},
     "output_type": "execute_result"
    }
   ],
   "source": [
    "X_sparse.shape, type(X_sparse)"
   ]
  },
  {
   "cell_type": "code",
   "execution_count": 79,
   "metadata": {},
   "outputs": [
    {
     "data": {
      "text/plain": [
       "((5559, 8674), numpy.matrixlib.defmatrix.matrix)"
      ]
     },
     "execution_count": 79,
     "metadata": {},
     "output_type": "execute_result"
    }
   ],
   "source": [
    "X_dense = X_sparse.todense()\n",
    "X_dense.shape, type(X_dense)"
   ]
  },
  {
   "cell_type": "code",
   "execution_count": 81,
   "metadata": {},
   "outputs": [
    {
     "data": {
      "text/plain": [
       "((5559, 8674), numpy.ndarray)"
      ]
     },
     "execution_count": 81,
     "metadata": {},
     "output_type": "execute_result"
    }
   ],
   "source": [
    "X_array = X_sparse.toarray()\n",
    "X_array.shape, type(X_array)"
   ]
  },
  {
   "cell_type": "code",
   "execution_count": null,
   "metadata": {},
   "outputs": [],
   "source": []
  },
  {
   "cell_type": "code",
   "execution_count": null,
   "metadata": {},
   "outputs": [],
   "source": []
  },
  {
   "cell_type": "code",
   "execution_count": null,
   "metadata": {},
   "outputs": [],
   "source": []
  },
  {
   "cell_type": "markdown",
   "metadata": {},
   "source": [
    "### Modeling: BernoulliNB"
   ]
  },
  {
   "cell_type": "code",
   "execution_count": 109,
   "metadata": {},
   "outputs": [
    {
     "data": {
      "text/plain": [
       "((5559, 8674), (5559,))"
      ]
     },
     "execution_count": 109,
     "metadata": {},
     "output_type": "execute_result"
    }
   ],
   "source": [
    "y = data_raw.type.values\n",
    "X.shape, y.shape"
   ]
  },
  {
   "cell_type": "code",
   "execution_count": 82,
   "metadata": {},
   "outputs": [],
   "source": [
    "from sklearn.naive_bayes import BernoulliNB\n",
    "from sklearn.model_selection import cross_val_score\n",
    "\n",
    "Bern = BernoulliNB()"
   ]
  },
  {
   "cell_type": "markdown",
   "metadata": {},
   "source": [
    "### sparse matrix"
   ]
  },
  {
   "cell_type": "code",
   "execution_count": 96,
   "metadata": {},
   "outputs": [
    {
     "name": "stdout",
     "output_type": "stream",
     "text": [
      "X_sparse result : 0.987588 \n",
      "\n",
      "CPU times: user 9.99 ms, sys: 2.55 ms, total: 12.5 ms\n",
      "Wall time: 10.2 ms\n"
     ]
    }
   ],
   "source": [
    "%%time\n",
    "\n",
    "# sparse\n",
    "model_sparse = Bern.fit(X_sparse, y)\n",
    "y_pred = model_sparse.predict(X_sparse)\n",
    "result = np.mean(y == y_pred)\n",
    "print(\"X_sparse result : %f \\n\" % (result))"
   ]
  },
  {
   "cell_type": "code",
   "execution_count": 97,
   "metadata": {},
   "outputs": [
    {
     "name": "stdout",
     "output_type": "stream",
     "text": [
      "X_dense result : 0.987588 \n",
      "\n",
      "CPU times: user 1.85 s, sys: 1.44 s, total: 3.29 s\n",
      "Wall time: 3.1 s\n"
     ]
    }
   ],
   "source": [
    "%%time\n",
    "\n",
    "# dense\n",
    "model_dense = Bern.fit(X_dense, y)\n",
    "y_pred = model_dense.predict(X_dense)\n",
    "result = np.mean(y == y_pred)\n",
    "print(\"X_dense result : %f \\n\" % (result))"
   ]
  },
  {
   "cell_type": "code",
   "execution_count": 98,
   "metadata": {},
   "outputs": [
    {
     "name": "stdout",
     "output_type": "stream",
     "text": [
      "X_array result : 0.987588 \n",
      "\n",
      "CPU times: user 1.89 s, sys: 1.57 s, total: 3.45 s\n",
      "Wall time: 3.5 s\n"
     ]
    }
   ],
   "source": [
    "%%time\n",
    "\n",
    "# array\n",
    "model_array = Bern.fit(X_array, y)\n",
    "y_pred = model_array.predict(X_array)\n",
    "result = np.mean(y == y_pred)\n",
    "print(\"X_array result : %f \\n\" % (result))"
   ]
  },
  {
   "cell_type": "code",
   "execution_count": 108,
   "metadata": {},
   "outputs": [
    {
     "name": "stdout",
     "output_type": "stream",
     "text": [
      "cv : 3, X_array result : 0.978054 \n",
      "\n",
      "cv : 5, X_array result : 0.979672 \n",
      "\n",
      "cv : 7, X_array result : 0.981470 \n",
      "\n",
      "cv : 9, X_array result : 0.981290 \n",
      "\n",
      "cv : 11, X_array result : 0.981828 \n",
      "\n"
     ]
    }
   ],
   "source": [
    "# cross validation\n",
    "\n",
    "validation_score = []\n",
    "\n",
    "for i in range(3, 13, 2):\n",
    "    scores = cross_val_score(Bern, X_sparse, y, cv=i, scoring='accuracy')\n",
    "    result = np.mean(scores)\n",
    "    validation_score.append(result)\n",
    "    print(\"cv : %d, X_array result : %f \\n\" % (i, result))"
   ]
  },
  {
   "cell_type": "markdown",
   "metadata": {},
   "source": [
    "### Modeling: MultinomialNB"
   ]
  },
  {
   "cell_type": "code",
   "execution_count": 114,
   "metadata": {},
   "outputs": [
    {
     "name": "stdout",
     "output_type": "stream",
     "text": [
      "cv : 3, X_array result : 0.979133 \n",
      "\n",
      "cv : 5, X_array result : 0.980392 \n",
      "\n",
      "cv : 7, X_array result : 0.980752 \n",
      "\n"
     ]
    }
   ],
   "source": [
    "# load estimator\n",
    "from sklearn.naive_bayes import MultinomialNB\n",
    "Mult = MultinomialNB()\n",
    "\n",
    "# cross validation\n",
    "validation_score = []\n",
    "\n",
    "for i in range(3, 9, 2):\n",
    "    scores = cross_val_score(Mult, X_dense, y, cv=i, scoring='accuracy')\n",
    "    result = np.mean(scores)\n",
    "    validation_score.append(result)\n",
    "    print(\"cv : %d, X_array result : %f \\n\" % (i, result))"
   ]
  },
  {
   "cell_type": "markdown",
   "metadata": {},
   "source": [
    "### Modeling: GaussianNB"
   ]
  },
  {
   "cell_type": "code",
   "execution_count": 115,
   "metadata": {},
   "outputs": [
    {
     "name": "stdout",
     "output_type": "stream",
     "text": [
      "cv : 3, X_array result : 0.902321 \n",
      "\n",
      "cv : 5, X_array result : 0.896027 \n",
      "\n",
      "cv : 7, X_array result : 0.895491 \n",
      "\n"
     ]
    }
   ],
   "source": [
    "# load estimator\n",
    "from sklearn.naive_bayes import GaussianNB\n",
    "Gaus = GaussianNB()\n",
    "\n",
    "# cross validation\n",
    "validation_score = []\n",
    "\n",
    "for i in range(3, 9, 2):\n",
    "    scores = cross_val_score(Gaus, X_dense, y, cv=i, scoring='accuracy')\n",
    "    result = np.mean(scores)\n",
    "    validation_score.append(result)\n",
    "    print(\"cv : %d, X_array result : %f \\n\" % (i, result))"
   ]
  },
  {
   "cell_type": "code",
   "execution_count": null,
   "metadata": {},
   "outputs": [],
   "source": []
  },
  {
   "cell_type": "code",
   "execution_count": null,
   "metadata": {},
   "outputs": [],
   "source": []
  }
 ],
 "metadata": {
  "kernelspec": {
   "display_name": "Python 3",
   "language": "python",
   "name": "python3"
  },
  "language_info": {
   "codemirror_mode": {
    "name": "ipython",
    "version": 3
   },
   "file_extension": ".py",
   "mimetype": "text/x-python",
   "name": "python",
   "nbconvert_exporter": "python",
   "pygments_lexer": "ipython3",
   "version": "3.6.5"
  }
 },
 "nbformat": 4,
 "nbformat_minor": 2
}
