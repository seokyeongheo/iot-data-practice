{
 "cells": [
  {
   "cell_type": "markdown",
   "metadata": {},
   "source": [
    "# SETUP\n",
    "- - -"
   ]
  },
  {
   "cell_type": "code",
   "execution_count": 1,
   "metadata": {},
   "outputs": [],
   "source": [
    "import pandas as pd\n",
    "import numpy as np\n",
    "import matplotlib.pyplot as plt\n",
    "plt.rcParams[\"font.family\"] = \"Dejavu Sans\"\n",
    "\n",
    "%matplotlib inline"
   ]
  },
  {
   "cell_type": "code",
   "execution_count": 2,
   "metadata": {},
   "outputs": [
    {
     "name": "stdout",
     "output_type": "stream",
     "text": [
      "cansim-0800020-eng-6674700030567901031.csv\n"
     ]
    }
   ],
   "source": [
    "!ls /Users/quartz/data/IOT_data/"
   ]
  },
  {
   "cell_type": "code",
   "execution_count": 3,
   "metadata": {},
   "outputs": [],
   "source": [
    "file_path = '/Users/quartz/data/IOT_data/cansim-0800020-eng-6674700030567901031.csv'"
   ]
  },
  {
   "cell_type": "code",
   "execution_count": 4,
   "metadata": {},
   "outputs": [
    {
     "data": {
      "text/html": [
       "<div>\n",
       "<style scoped>\n",
       "    .dataframe tbody tr th:only-of-type {\n",
       "        vertical-align: middle;\n",
       "    }\n",
       "\n",
       "    .dataframe tbody tr th {\n",
       "        vertical-align: top;\n",
       "    }\n",
       "\n",
       "    .dataframe thead th {\n",
       "        text-align: right;\n",
       "    }\n",
       "</style>\n",
       "<table border=\"1\" class=\"dataframe\">\n",
       "  <thead>\n",
       "    <tr style=\"text-align: right;\">\n",
       "      <th></th>\n",
       "      <th>Adjustments</th>\n",
       "      <th>Unadjusted</th>\n",
       "      <th>Seasonally adjusted</th>\n",
       "    </tr>\n",
       "  </thead>\n",
       "  <tbody>\n",
       "    <tr>\n",
       "      <th>0</th>\n",
       "      <td>Jan-1991</td>\n",
       "      <td>12588862</td>\n",
       "      <td>15026890</td>\n",
       "    </tr>\n",
       "    <tr>\n",
       "      <th>1</th>\n",
       "      <td>Feb-1991</td>\n",
       "      <td>12154321</td>\n",
       "      <td>15304585</td>\n",
       "    </tr>\n",
       "    <tr>\n",
       "      <th>2</th>\n",
       "      <td>Mar-1991</td>\n",
       "      <td>14337072</td>\n",
       "      <td>15413591</td>\n",
       "    </tr>\n",
       "    <tr>\n",
       "      <th>3</th>\n",
       "      <td>Apr-1991</td>\n",
       "      <td>15108570</td>\n",
       "      <td>15293409</td>\n",
       "    </tr>\n",
       "    <tr>\n",
       "      <th>4</th>\n",
       "      <td>May-1991</td>\n",
       "      <td>17225734</td>\n",
       "      <td>15676083</td>\n",
       "    </tr>\n",
       "  </tbody>\n",
       "</table>\n",
       "</div>"
      ],
      "text/plain": [
       "  Adjustments  Unadjusted  Seasonally adjusted\n",
       "0    Jan-1991    12588862             15026890\n",
       "1    Feb-1991    12154321             15304585\n",
       "2    Mar-1991    14337072             15413591\n",
       "3    Apr-1991    15108570             15293409\n",
       "4    May-1991    17225734             15676083"
      ]
     },
     "execution_count": 4,
     "metadata": {},
     "output_type": "execute_result"
    }
   ],
   "source": [
    "data_raw = pd.read_csv(file_path, skiprows=6, skipfooter=9)\n",
    "data_raw.head()"
   ]
  },
  {
   "cell_type": "code",
   "execution_count": 5,
   "metadata": {},
   "outputs": [],
   "source": [
    "# 월별 끝일 삽일\n",
    "\n",
    "from pandas.tseries.offsets import MonthEnd\n",
    "\n",
    "# data_raw['Adjustments'] = \n",
    "data_raw.Adjustments = pd.to_datetime(data_raw['Adjustments']) + MonthEnd(1)\n",
    "data_raw = data_raw.set_index('Adjustments')"
   ]
  },
  {
   "cell_type": "code",
   "execution_count": 6,
   "metadata": {},
   "outputs": [
    {
     "data": {
      "text/html": [
       "<div>\n",
       "<style scoped>\n",
       "    .dataframe tbody tr th:only-of-type {\n",
       "        vertical-align: middle;\n",
       "    }\n",
       "\n",
       "    .dataframe tbody tr th {\n",
       "        vertical-align: top;\n",
       "    }\n",
       "\n",
       "    .dataframe thead th {\n",
       "        text-align: right;\n",
       "    }\n",
       "</style>\n",
       "<table border=\"1\" class=\"dataframe\">\n",
       "  <thead>\n",
       "    <tr style=\"text-align: right;\">\n",
       "      <th></th>\n",
       "      <th>Unadjusted</th>\n",
       "      <th>Seasonally adjusted</th>\n",
       "    </tr>\n",
       "    <tr>\n",
       "      <th>Adjustments</th>\n",
       "      <th></th>\n",
       "      <th></th>\n",
       "    </tr>\n",
       "  </thead>\n",
       "  <tbody>\n",
       "    <tr>\n",
       "      <th>1991-01-31</th>\n",
       "      <td>12588862</td>\n",
       "      <td>15026890</td>\n",
       "    </tr>\n",
       "    <tr>\n",
       "      <th>1991-02-28</th>\n",
       "      <td>12154321</td>\n",
       "      <td>15304585</td>\n",
       "    </tr>\n",
       "    <tr>\n",
       "      <th>1991-03-31</th>\n",
       "      <td>14337072</td>\n",
       "      <td>15413591</td>\n",
       "    </tr>\n",
       "    <tr>\n",
       "      <th>1991-04-30</th>\n",
       "      <td>15108570</td>\n",
       "      <td>15293409</td>\n",
       "    </tr>\n",
       "    <tr>\n",
       "      <th>1991-05-31</th>\n",
       "      <td>17225734</td>\n",
       "      <td>15676083</td>\n",
       "    </tr>\n",
       "  </tbody>\n",
       "</table>\n",
       "</div>"
      ],
      "text/plain": [
       "             Unadjusted  Seasonally adjusted\n",
       "Adjustments                                 \n",
       "1991-01-31     12588862             15026890\n",
       "1991-02-28     12154321             15304585\n",
       "1991-03-31     14337072             15413591\n",
       "1991-04-30     15108570             15293409\n",
       "1991-05-31     17225734             15676083"
      ]
     },
     "execution_count": 6,
     "metadata": {},
     "output_type": "execute_result"
    }
   ],
   "source": [
    "data_raw.head()"
   ]
  },
  {
   "cell_type": "markdown",
   "metadata": {},
   "source": [
    "### Plotting"
   ]
  },
  {
   "cell_type": "code",
   "execution_count": 7,
   "metadata": {},
   "outputs": [
    {
     "data": {
      "text/plain": [
       "Timestamp('2011-01-01 00:00:00')"
      ]
     },
     "execution_count": 7,
     "metadata": {},
     "output_type": "execute_result"
    }
   ],
   "source": [
    "# 기준점 형성(Timestamp)\n",
    "\n",
    "split_date = pd.Timestamp('01-01-2011')\n",
    "split_date"
   ]
  },
  {
   "cell_type": "code",
   "execution_count": 8,
   "metadata": {},
   "outputs": [
    {
     "data": {
      "text/plain": [
       "((240, 1), (73, 1))"
      ]
     },
     "execution_count": 8,
     "metadata": {},
     "output_type": "execute_result"
    }
   ],
   "source": [
    "# Unadjusted feature만 활용해서 dataframe을 만든다\n",
    "\n",
    "train = data_raw.loc[:split_date, ['Unadjusted']]\n",
    "test = data_raw.loc[split_date:, ['Unadjusted']]\n",
    "train.shape, test.shape"
   ]
  },
  {
   "cell_type": "code",
   "execution_count": 9,
   "metadata": {},
   "outputs": [
    {
     "data": {
      "text/plain": [
       "<matplotlib.legend.Legend at 0x1121ee080>"
      ]
     },
     "execution_count": 9,
     "metadata": {},
     "output_type": "execute_result"
    },
    {
     "data": {
      "image/png": "[encoded data removed]",
      "text/plain": [
       "<Figure size 432x288 with 1 Axes>"
      ]
     },
     "metadata": {},
     "output_type": "display_data"
    }
   ],
   "source": [
    "# plot\n",
    "\n",
    "ax = train.plot()\n",
    "test.plot(ax=ax)\n",
    "plt.legend(['train', 'test'])"
   ]
  },
  {
   "cell_type": "markdown",
   "metadata": {},
   "source": [
    "### preprocessing"
   ]
  },
  {
   "cell_type": "code",
   "execution_count": 10,
   "metadata": {},
   "outputs": [
    {
     "name": "stderr",
     "output_type": "stream",
     "text": [
      "/usr/local/lib/python3.6/site-packages/sklearn/preprocessing/data.py:323: DataConversionWarning: Data with input dtype int64 were all converted to float64 by MinMaxScaler.\n",
      "  return self.partial_fit(X, y)\n",
      "/usr/local/lib/python3.6/site-packages/sklearn/preprocessing/data.py:323: DataConversionWarning: Data with input dtype int64 were all converted to float64 by MinMaxScaler.\n",
      "  return self.partial_fit(X, y)\n"
     ]
    }
   ],
   "source": [
    "from sklearn.preprocessing import MinMaxScaler\n",
    "\n",
    "sc = MinMaxScaler()\n",
    "\n",
    "train_sc = sc.fit_transform(train)\n",
    "test_sc = sc.fit_transform(test)"
   ]
  },
  {
   "cell_type": "code",
   "execution_count": 11,
   "metadata": {},
   "outputs": [
    {
     "data": {
      "text/plain": [
       "((240, 1), (73, 1), (240, 1), (73, 1))"
      ]
     },
     "execution_count": 11,
     "metadata": {},
     "output_type": "execute_result"
    }
   ],
   "source": [
    "train.shape, test.shape, train_sc.shape, test_sc.shape"
   ]
  },
  {
   "cell_type": "code",
   "execution_count": 12,
   "metadata": {},
   "outputs": [
    {
     "data": {
      "text/html": [
       "<div>\n",
       "<style scoped>\n",
       "    .dataframe tbody tr th:only-of-type {\n",
       "        vertical-align: middle;\n",
       "    }\n",
       "\n",
       "    .dataframe tbody tr th {\n",
       "        vertical-align: top;\n",
       "    }\n",
       "\n",
       "    .dataframe thead th {\n",
       "        text-align: right;\n",
       "    }\n",
       "</style>\n",
       "<table border=\"1\" class=\"dataframe\">\n",
       "  <thead>\n",
       "    <tr style=\"text-align: right;\">\n",
       "      <th></th>\n",
       "      <th>Scaled</th>\n",
       "    </tr>\n",
       "    <tr>\n",
       "      <th>Adjustments</th>\n",
       "      <th></th>\n",
       "    </tr>\n",
       "  </thead>\n",
       "  <tbody>\n",
       "    <tr>\n",
       "      <th>1991-01-31</th>\n",
       "      <td>0.014020</td>\n",
       "    </tr>\n",
       "    <tr>\n",
       "      <th>1991-02-28</th>\n",
       "      <td>0.000000</td>\n",
       "    </tr>\n",
       "    <tr>\n",
       "      <th>1991-03-31</th>\n",
       "      <td>0.070426</td>\n",
       "    </tr>\n",
       "    <tr>\n",
       "      <th>1991-04-30</th>\n",
       "      <td>0.095318</td>\n",
       "    </tr>\n",
       "    <tr>\n",
       "      <th>1991-05-31</th>\n",
       "      <td>0.163628</td>\n",
       "    </tr>\n",
       "  </tbody>\n",
       "</table>\n",
       "</div>"
      ],
      "text/plain": [
       "               Scaled\n",
       "Adjustments          \n",
       "1991-01-31   0.014020\n",
       "1991-02-28   0.000000\n",
       "1991-03-31   0.070426\n",
       "1991-04-30   0.095318\n",
       "1991-05-31   0.163628"
      ]
     },
     "execution_count": 12,
     "metadata": {},
     "output_type": "execute_result"
    }
   ],
   "source": [
    "train_sc_df = pd.DataFrame(data=train_sc, columns=['Scaled'], index=train.index)\n",
    "test_sc_df = pd.DataFrame(data=test_sc, columns=['Scaled'], index=test.index)\n",
    "train_sc_df.head()\n"
   ]
  },
  {
   "cell_type": "code",
   "execution_count": 13,
   "metadata": {},
   "outputs": [],
   "source": [
    "X_test = test_sc_df.dropna().drop('Scaled', axis=1)\n",
    "y_test = test_sc_df.dropna()[['Scaled']]"
   ]
  },
  {
   "cell_type": "code",
   "execution_count": 14,
   "metadata": {},
   "outputs": [
    {
     "data": {
      "text/html": [
       "<div>\n",
       "<style scoped>\n",
       "    .dataframe tbody tr th:only-of-type {\n",
       "        vertical-align: middle;\n",
       "    }\n",
       "\n",
       "    .dataframe tbody tr th {\n",
       "        vertical-align: top;\n",
       "    }\n",
       "\n",
       "    .dataframe thead th {\n",
       "        text-align: right;\n",
       "    }\n",
       "</style>\n",
       "<table border=\"1\" class=\"dataframe\">\n",
       "  <thead>\n",
       "    <tr style=\"text-align: right;\">\n",
       "      <th></th>\n",
       "      <th>Scaled</th>\n",
       "    </tr>\n",
       "    <tr>\n",
       "      <th>Adjustments</th>\n",
       "      <th></th>\n",
       "    </tr>\n",
       "  </thead>\n",
       "  <tbody>\n",
       "    <tr>\n",
       "      <th>1991-01-31</th>\n",
       "      <td>0.014020</td>\n",
       "    </tr>\n",
       "    <tr>\n",
       "      <th>1991-02-28</th>\n",
       "      <td>0.000000</td>\n",
       "    </tr>\n",
       "    <tr>\n",
       "      <th>1991-03-31</th>\n",
       "      <td>0.070426</td>\n",
       "    </tr>\n",
       "    <tr>\n",
       "      <th>1991-04-30</th>\n",
       "      <td>0.095318</td>\n",
       "    </tr>\n",
       "    <tr>\n",
       "      <th>1991-05-31</th>\n",
       "      <td>0.163628</td>\n",
       "    </tr>\n",
       "  </tbody>\n",
       "</table>\n",
       "</div>"
      ],
      "text/plain": [
       "               Scaled\n",
       "Adjustments          \n",
       "1991-01-31   0.014020\n",
       "1991-02-28   0.000000\n",
       "1991-03-31   0.070426\n",
       "1991-04-30   0.095318\n",
       "1991-05-31   0.163628"
      ]
     },
     "execution_count": 14,
     "metadata": {},
     "output_type": "execute_result"
    }
   ],
   "source": [
    "train_sc_df.head()"
   ]
  },
  {
   "cell_type": "code",
   "execution_count": 15,
   "metadata": {},
   "outputs": [],
   "source": [
    "for shift in range(1, 13):\n",
    "    train_sc_df['shift_{}'.format(shift)] = train_sc_df['Scaled'].shift(shift)\n",
    "    test_sc_df['shift_{}'.format(shift)] = test_sc_df['Scaled'].shift(shift)\n"
   ]
  },
  {
   "cell_type": "code",
   "execution_count": 16,
   "metadata": {},
   "outputs": [
    {
     "data": {
      "text/html": [
       "<div>\n",
       "<style scoped>\n",
       "    .dataframe tbody tr th:only-of-type {\n",
       "        vertical-align: middle;\n",
       "    }\n",
       "\n",
       "    .dataframe tbody tr th {\n",
       "        vertical-align: top;\n",
       "    }\n",
       "\n",
       "    .dataframe thead th {\n",
       "        text-align: right;\n",
       "    }\n",
       "</style>\n",
       "<table border=\"1\" class=\"dataframe\">\n",
       "  <thead>\n",
       "    <tr style=\"text-align: right;\">\n",
       "      <th></th>\n",
       "      <th>Scaled</th>\n",
       "      <th>shift_1</th>\n",
       "      <th>shift_2</th>\n",
       "      <th>shift_3</th>\n",
       "      <th>shift_4</th>\n",
       "      <th>shift_5</th>\n",
       "      <th>shift_6</th>\n",
       "      <th>shift_7</th>\n",
       "      <th>shift_8</th>\n",
       "      <th>shift_9</th>\n",
       "      <th>shift_10</th>\n",
       "      <th>shift_11</th>\n",
       "      <th>shift_12</th>\n",
       "    </tr>\n",
       "  </thead>\n",
       "  <tbody>\n",
       "    <tr>\n",
       "      <th>count</th>\n",
       "      <td>240.000000</td>\n",
       "      <td>239.000000</td>\n",
       "      <td>238.000000</td>\n",
       "      <td>237.000000</td>\n",
       "      <td>236.000000</td>\n",
       "      <td>235.000000</td>\n",
       "      <td>234.000000</td>\n",
       "      <td>233.000000</td>\n",
       "      <td>232.000000</td>\n",
       "      <td>231.000000</td>\n",
       "      <td>230.000000</td>\n",
       "      <td>229.000000</td>\n",
       "      <td>228.000000</td>\n",
       "    </tr>\n",
       "    <tr>\n",
       "      <th>mean</th>\n",
       "      <td>0.420985</td>\n",
       "      <td>0.418563</td>\n",
       "      <td>0.416898</td>\n",
       "      <td>0.415272</td>\n",
       "      <td>0.413646</td>\n",
       "      <td>0.411940</td>\n",
       "      <td>0.410008</td>\n",
       "      <td>0.408054</td>\n",
       "      <td>0.406160</td>\n",
       "      <td>0.404522</td>\n",
       "      <td>0.403080</td>\n",
       "      <td>0.402519</td>\n",
       "      <td>0.401664</td>\n",
       "    </tr>\n",
       "    <tr>\n",
       "      <th>std</th>\n",
       "      <td>0.241028</td>\n",
       "      <td>0.238588</td>\n",
       "      <td>0.237695</td>\n",
       "      <td>0.236869</td>\n",
       "      <td>0.236042</td>\n",
       "      <td>0.235085</td>\n",
       "      <td>0.233712</td>\n",
       "      <td>0.232292</td>\n",
       "      <td>0.230983</td>\n",
       "      <td>0.230130</td>\n",
       "      <td>0.229584</td>\n",
       "      <td>0.229929</td>\n",
       "      <td>0.230070</td>\n",
       "    </tr>\n",
       "    <tr>\n",
       "      <th>min</th>\n",
       "      <td>0.000000</td>\n",
       "      <td>0.000000</td>\n",
       "      <td>0.000000</td>\n",
       "      <td>0.000000</td>\n",
       "      <td>0.000000</td>\n",
       "      <td>0.000000</td>\n",
       "      <td>0.000000</td>\n",
       "      <td>0.000000</td>\n",
       "      <td>0.000000</td>\n",
       "      <td>0.000000</td>\n",
       "      <td>0.000000</td>\n",
       "      <td>0.000000</td>\n",
       "      <td>0.000000</td>\n",
       "    </tr>\n",
       "    <tr>\n",
       "      <th>25%</th>\n",
       "      <td>0.211260</td>\n",
       "      <td>0.210050</td>\n",
       "      <td>0.208841</td>\n",
       "      <td>0.207631</td>\n",
       "      <td>0.207044</td>\n",
       "      <td>0.206457</td>\n",
       "      <td>0.205870</td>\n",
       "      <td>0.205282</td>\n",
       "      <td>0.204648</td>\n",
       "      <td>0.204014</td>\n",
       "      <td>0.203380</td>\n",
       "      <td>0.202746</td>\n",
       "      <td>0.202611</td>\n",
       "    </tr>\n",
       "    <tr>\n",
       "      <th>50%</th>\n",
       "      <td>0.387050</td>\n",
       "      <td>0.383386</td>\n",
       "      <td>0.383247</td>\n",
       "      <td>0.383108</td>\n",
       "      <td>0.382566</td>\n",
       "      <td>0.382023</td>\n",
       "      <td>0.380370</td>\n",
       "      <td>0.378716</td>\n",
       "      <td>0.376887</td>\n",
       "      <td>0.375058</td>\n",
       "      <td>0.373580</td>\n",
       "      <td>0.372102</td>\n",
       "      <td>0.371540</td>\n",
       "    </tr>\n",
       "    <tr>\n",
       "      <th>75%</th>\n",
       "      <td>0.600857</td>\n",
       "      <td>0.599528</td>\n",
       "      <td>0.598398</td>\n",
       "      <td>0.597349</td>\n",
       "      <td>0.595715</td>\n",
       "      <td>0.593959</td>\n",
       "      <td>0.592390</td>\n",
       "      <td>0.591318</td>\n",
       "      <td>0.591266</td>\n",
       "      <td>0.590253</td>\n",
       "      <td>0.587838</td>\n",
       "      <td>0.589258</td>\n",
       "      <td>0.584998</td>\n",
       "    </tr>\n",
       "    <tr>\n",
       "      <th>max</th>\n",
       "      <td>1.000000</td>\n",
       "      <td>0.929722</td>\n",
       "      <td>0.929722</td>\n",
       "      <td>0.929722</td>\n",
       "      <td>0.929722</td>\n",
       "      <td>0.929722</td>\n",
       "      <td>0.929722</td>\n",
       "      <td>0.929722</td>\n",
       "      <td>0.929722</td>\n",
       "      <td>0.929722</td>\n",
       "      <td>0.929722</td>\n",
       "      <td>0.929722</td>\n",
       "      <td>0.929722</td>\n",
       "    </tr>\n",
       "  </tbody>\n",
       "</table>\n",
       "</div>"
      ],
      "text/plain": [
       "           Scaled     shift_1     shift_2     shift_3     shift_4     shift_5  \\\n",
       "count  240.000000  239.000000  238.000000  237.000000  236.000000  235.000000   \n",
       "mean     0.420985    0.418563    0.416898    0.415272    0.413646    0.411940   \n",
       "std      0.241028    0.238588    0.237695    0.236869    0.236042    0.235085   \n",
       "min      0.000000    0.000000    0.000000    0.000000    0.000000    0.000000   \n",
       "25%      0.211260    0.210050    0.208841    0.207631    0.207044    0.206457   \n",
       "50%      0.387050    0.383386    0.383247    0.383108    0.382566    0.382023   \n",
       "75%      0.600857    0.599528    0.598398    0.597349    0.595715    0.593959   \n",
       "max      1.000000    0.929722    0.929722    0.929722    0.929722    0.929722   \n",
       "\n",
       "          shift_6     shift_7     shift_8     shift_9    shift_10    shift_11  \\\n",
       "count  234.000000  233.000000  232.000000  231.000000  230.000000  229.000000   \n",
       "mean     0.410008    0.408054    0.406160    0.404522    0.403080    0.402519   \n",
       "std      0.233712    0.232292    0.230983    0.230130    0.229584    0.229929   \n",
       "min      0.000000    0.000000    0.000000    0.000000    0.000000    0.000000   \n",
       "25%      0.205870    0.205282    0.204648    0.204014    0.203380    0.202746   \n",
       "50%      0.380370    0.378716    0.376887    0.375058    0.373580    0.372102   \n",
       "75%      0.592390    0.591318    0.591266    0.590253    0.587838    0.589258   \n",
       "max      0.929722    0.929722    0.929722    0.929722    0.929722    0.929722   \n",
       "\n",
       "         shift_12  \n",
       "count  228.000000  \n",
       "mean     0.401664  \n",
       "std      0.230070  \n",
       "min      0.000000  \n",
       "25%      0.202611  \n",
       "50%      0.371540  \n",
       "75%      0.584998  \n",
       "max      0.929722  "
      ]
     },
     "execution_count": 16,
     "metadata": {},
     "output_type": "execute_result"
    }
   ],
   "source": [
    "train_sc_df.describe()"
   ]
  },
  {
   "cell_type": "markdown",
   "metadata": {},
   "source": [
    "### make dataset(train, test)"
   ]
  },
  {
   "cell_type": "code",
   "execution_count": 17,
   "metadata": {},
   "outputs": [],
   "source": [
    "X_train_df = train_sc_df.dropna().drop('Scaled', axis=1)\n",
    "y_train_df = train_sc_df.dropna()[['Scaled']]"
   ]
  },
  {
   "cell_type": "code",
   "execution_count": 18,
   "metadata": {},
   "outputs": [],
   "source": [
    "X_test_df = test_sc_df.dropna().drop('Scaled', axis=1)\n",
    "y_test_df = test_sc_df.dropna()[['Scaled']]"
   ]
  },
  {
   "cell_type": "code",
   "execution_count": 19,
   "metadata": {},
   "outputs": [],
   "source": [
    "# DataFrame -> ndarray\n",
    "\n",
    "X_train = X_train_df.values\n",
    "y_train = y_train_df.values\n",
    "X_test = X_test_df.values\n",
    "y_test = y_test_df.values"
   ]
  },
  {
   "cell_type": "code",
   "execution_count": 20,
   "metadata": {},
   "outputs": [],
   "source": [
    "# 2차원 데이터(size, feature)를 3차원 데이터(size, feature, time)으로.\n",
    "\n",
    "X_train_t = X_train.reshape(X_train.shape[0], 12, 1)\n",
    "X_test_t = X_test.reshape(X_test.shape[0], 12, 1)"
   ]
  },
  {
   "cell_type": "code",
   "execution_count": 21,
   "metadata": {},
   "outputs": [
    {
     "data": {
      "text/plain": [
       "((228, 12), (228, 12, 1), (61, 12), (61, 12, 1))"
      ]
     },
     "execution_count": 21,
     "metadata": {},
     "output_type": "execute_result"
    }
   ],
   "source": [
    "X_train.shape, X_train_t.shape, X_test.shape, X_test_t.shape"
   ]
  },
  {
   "cell_type": "markdown",
   "metadata": {},
   "source": [
    "### LSTM Modeling"
   ]
  },
  {
   "cell_type": "code",
   "execution_count": 23,
   "metadata": {},
   "outputs": [
    {
     "name": "stderr",
     "output_type": "stream",
     "text": [
      "Using TensorFlow backend.\n"
     ]
    }
   ],
   "source": [
    "from keras.layers import LSTM\n",
    "from keras.models import Sequential\n",
    "from keras.layers import Dense\n",
    "import keras\n",
    "import keras.backend as K\n",
    "from keras.callbacks import EarlyStopping"
   ]
  },
  {
   "cell_type": "code",
   "execution_count": 24,
   "metadata": {},
   "outputs": [],
   "source": [
    "# 손실 이력 클래스 정의\n",
    "class LossHistory(keras.callbacks.Callback):\n",
    "    def init(self):\n",
    "        self.losses = []\n",
    "        \n",
    "    def on_epoch_end(self, batch, logs={}):\n",
    "        self.losses.append(logs.get('loss'))"
   ]
  },
  {
   "cell_type": "code",
   "execution_count": 25,
   "metadata": {},
   "outputs": [],
   "source": [
    "# 손실 이력 객체 생성\n",
    "history = LossHistory() \n",
    "history.init()"
   ]
  },
  {
   "cell_type": "code",
   "execution_count": 33,
   "metadata": {},
   "outputs": [],
   "source": [
    "K.clear_session()\n",
    "\n",
    "model = Sequential() # Sequential Model\n",
    "model.add(LSTM(100, input_shape=(12,1))) # (timestamp, feature) \n",
    "model.add(Dense(1)) # output = 1\n",
    "model.compile(loss='mean_squared_error', optimizer='adam')"
   ]
  },
  {
   "cell_type": "code",
   "execution_count": 38,
   "metadata": {},
   "outputs": [
    {
     "name": "stdout",
     "output_type": "stream",
     "text": [
      "Epoch 1/100\n",
      " - 0s - loss: 0.0013\n",
      "Epoch 2/100\n",
      " - 0s - loss: 0.0014\n",
      "Epoch 3/100\n",
      " - 0s - loss: 0.0013\n",
      "Epoch 4/100\n",
      " - 0s - loss: 0.0014\n",
      "Epoch 5/100\n",
      " - 0s - loss: 0.0014\n",
      "Epoch 6/100\n",
      " - 0s - loss: 0.0012\n",
      "Epoch 7/100\n",
      " - 0s - loss: 0.0012\n",
      "Epoch 8/100\n",
      " - 0s - loss: 0.0012\n",
      "Epoch 9/100\n",
      " - 0s - loss: 0.0012\n",
      "Epoch 10/100\n",
      " - 0s - loss: 0.0014\n",
      "Epoch 11/100\n",
      " - 0s - loss: 0.0014\n",
      "Epoch 12/100\n",
      " - 0s - loss: 0.0014\n",
      "Epoch 13/100\n",
      " - 0s - loss: 0.0011\n",
      "Epoch 14/100\n",
      " - 0s - loss: 0.0011\n",
      "Epoch 15/100\n",
      " - 0s - loss: 0.0012\n",
      "Epoch 16/100\n",
      " - 0s - loss: 0.0010\n",
      "Epoch 17/100\n",
      " - 0s - loss: 0.0010\n",
      "Epoch 18/100\n",
      " - 0s - loss: 0.0010\n",
      "Epoch 19/100\n",
      " - 0s - loss: 0.0011\n",
      "Epoch 20/100\n",
      " - 0s - loss: 0.0011\n",
      "Epoch 21/100\n",
      " - 0s - loss: 0.0015\n",
      "Epoch 22/100\n",
      " - 0s - loss: 0.0017\n",
      "Epoch 23/100\n",
      " - 0s - loss: 0.0014\n",
      "Epoch 24/100\n",
      " - 0s - loss: 9.7109e-04\n",
      "Epoch 25/100\n",
      " - 0s - loss: 9.8319e-04\n",
      "Epoch 26/100\n",
      " - 0s - loss: 9.6371e-04\n",
      "Epoch 27/100\n",
      " - 0s - loss: 0.0011\n",
      "Epoch 28/100\n",
      " - 0s - loss: 9.5221e-04\n",
      "Epoch 29/100\n",
      " - 0s - loss: 0.0010\n",
      "Epoch 30/100\n",
      " - 0s - loss: 9.9186e-04\n",
      "Epoch 31/100\n",
      " - 0s - loss: 0.0010\n",
      "Epoch 32/100\n",
      " - 0s - loss: 0.0010\n",
      "Epoch 33/100\n",
      " - 0s - loss: 0.0011\n",
      "Epoch 34/100\n",
      " - 0s - loss: 0.0010\n",
      "Epoch 35/100\n",
      " - 0s - loss: 9.8476e-04\n",
      "Epoch 36/100\n",
      " - 0s - loss: 0.0010\n",
      "Epoch 37/100\n",
      " - 0s - loss: 0.0013\n",
      "Epoch 38/100\n",
      " - 0s - loss: 0.0011\n",
      "Epoch 39/100\n",
      " - 0s - loss: 0.0010\n",
      "Epoch 40/100\n",
      " - 0s - loss: 9.9684e-04\n",
      "Epoch 41/100\n",
      " - 0s - loss: 0.0011\n",
      "Epoch 42/100\n",
      " - 0s - loss: 9.3571e-04\n",
      "Epoch 43/100\n",
      " - 0s - loss: 0.0011\n",
      "Epoch 44/100\n",
      " - 0s - loss: 0.0012\n",
      "Epoch 45/100\n",
      " - 0s - loss: 0.0013\n",
      "Epoch 46/100\n",
      " - 0s - loss: 0.0010\n",
      "Epoch 47/100\n",
      " - 0s - loss: 0.0011\n",
      "Epoch 48/100\n",
      " - 0s - loss: 9.2809e-04\n",
      "Epoch 49/100\n",
      " - 0s - loss: 9.2976e-04\n",
      "Epoch 50/100\n",
      " - 0s - loss: 9.7623e-04\n",
      "Epoch 51/100\n",
      " - 0s - loss: 9.1398e-04\n",
      "Epoch 52/100\n",
      " - 0s - loss: 9.1568e-04\n",
      "Epoch 53/100\n",
      " - 0s - loss: 0.0011\n",
      "Epoch 54/100\n",
      " - 0s - loss: 0.0010\n",
      "Epoch 55/100\n",
      " - 0s - loss: 0.0010\n",
      "Epoch 56/100\n",
      " - 0s - loss: 0.0010\n",
      "Epoch 57/100\n",
      " - 0s - loss: 0.0011\n",
      "Epoch 58/100\n",
      " - 0s - loss: 0.0011\n",
      "Epoch 59/100\n",
      " - 0s - loss: 9.4447e-04\n",
      "Epoch 60/100\n",
      " - 0s - loss: 9.4139e-04\n",
      "Epoch 61/100\n",
      " - 0s - loss: 9.9858e-04\n",
      "Epoch 62/100\n",
      " - 0s - loss: 0.0010\n",
      "Epoch 63/100\n",
      " - 0s - loss: 0.0010\n",
      "Epoch 64/100\n",
      " - 0s - loss: 9.5804e-04\n",
      "Epoch 65/100\n",
      " - 0s - loss: 9.0494e-04\n",
      "Epoch 66/100\n",
      " - 0s - loss: 9.1159e-04\n",
      "Epoch 67/100\n",
      " - 0s - loss: 9.5047e-04\n",
      "Epoch 68/100\n",
      " - 0s - loss: 9.1952e-04\n",
      "Epoch 69/100\n",
      " - 0s - loss: 0.0012\n",
      "Epoch 70/100\n",
      " - 0s - loss: 0.0011\n",
      "Epoch 71/100\n",
      " - 0s - loss: 0.0010\n",
      "Epoch 72/100\n",
      " - 0s - loss: 0.0011\n",
      "Epoch 73/100\n",
      " - 0s - loss: 0.0011\n",
      "Epoch 74/100\n",
      " - 0s - loss: 9.8575e-04\n",
      "Epoch 75/100\n",
      " - 0s - loss: 0.0010\n",
      "Epoch 76/100\n",
      " - 0s - loss: 0.0010\n",
      "Epoch 77/100\n",
      " - 0s - loss: 9.6588e-04\n",
      "Epoch 78/100\n",
      " - 0s - loss: 0.0010\n",
      "Epoch 79/100\n",
      " - 0s - loss: 9.3020e-04\n",
      "Epoch 80/100\n",
      " - 0s - loss: 0.0011\n",
      "Epoch 81/100\n",
      " - 0s - loss: 9.4321e-04\n",
      "Epoch 82/100\n",
      " - 0s - loss: 9.3763e-04\n",
      "Epoch 83/100\n",
      " - 0s - loss: 9.7253e-04\n",
      "Epoch 84/100\n",
      " - 0s - loss: 9.8924e-04\n",
      "Epoch 85/100\n",
      " - 0s - loss: 9.1194e-04\n",
      "Epoch 86/100\n",
      " - 0s - loss: 9.3905e-04\n",
      "Epoch 87/100\n",
      " - 0s - loss: 9.6058e-04\n",
      "Epoch 88/100\n",
      " - 0s - loss: 9.7487e-04\n",
      "Epoch 89/100\n",
      " - 0s - loss: 8.9269e-04\n",
      "Epoch 90/100\n",
      " - 0s - loss: 8.8887e-04\n",
      "Epoch 91/100\n",
      " - 0s - loss: 9.9596e-04\n",
      "Epoch 92/100\n",
      " - 0s - loss: 0.0010\n",
      "Epoch 93/100\n",
      " - 0s - loss: 8.9774e-04\n",
      "Epoch 94/100\n",
      " - 0s - loss: 8.9907e-04\n",
      "Epoch 95/100\n",
      " - 0s - loss: 8.9662e-04\n",
      "Epoch 96/100\n",
      " - 0s - loss: 9.8891e-04\n",
      "Epoch 97/100\n",
      " - 0s - loss: 9.8273e-04\n",
      "Epoch 98/100\n",
      " - 0s - loss: 0.0011\n",
      "Epoch 99/100\n",
      " - 0s - loss: 0.0010\n",
      "Epoch 100/100\n",
      " - 0s - loss: 0.0010\n"
     ]
    }
   ],
   "source": [
    "model.fit(X_train_t, y_train, epochs=100, batch_size=30, verbose=2, callbacks=[history])\n",
    "y_pred = model.predict(X_test_t)"
   ]
  },
  {
   "cell_type": "markdown",
   "metadata": {},
   "source": [
    "### Visualization"
   ]
  },
  {
   "cell_type": "code",
   "execution_count": 39,
   "metadata": {},
   "outputs": [
    {
     "data": {
      "image/png": "[encoded data removed]",
      "text/plain": [
       "<Figure size 432x288 with 2 Axes>"
      ]
     },
     "metadata": {},
     "output_type": "display_data"
    }
   ],
   "source": [
    "fig, loss_ax = plt.subplots()\n",
    "acc_ax = loss_ax.twinx()\n",
    "pred = y_pred\n",
    "\n",
    "loss_ax.plot(pred, 'b', label='pred')\n",
    "loss_ax.plot(y_test, 'r', label='act')\n",
    "loss_ax.legend(loc='upper left')\n",
    "\n",
    "plt.show()"
   ]
  },
  {
   "cell_type": "code",
   "execution_count": 40,
   "metadata": {},
   "outputs": [
    {
     "data": {
      "text/plain": [
       "300"
      ]
     },
     "execution_count": 40,
     "metadata": {},
     "output_type": "execute_result"
    }
   ],
   "source": [
    "len(history.losses)"
   ]
  },
  {
   "cell_type": "code",
   "execution_count": 41,
   "metadata": {},
   "outputs": [
    {
     "data": {
      "image/png": "[encoded data removed]",
      "text/plain": [
       "<Figure size 432x288 with 1 Axes>"
      ]
     },
     "metadata": {},
     "output_type": "display_data"
    }
   ],
   "source": [
    "# loss\n",
    "\n",
    "plt.plot(history.losses)\n",
    "plt.ylabel('loss')\n",
    "plt.xlabel('epoch')\n",
    "plt.legend(['train'], loc='upper left')\n",
    "plt.show()"
   ]
  },
  {
   "cell_type": "code",
   "execution_count": null,
   "metadata": {},
   "outputs": [],
   "source": []
  },
  {
   "cell_type": "markdown",
   "metadata": {},
   "source": [
    "# 태양광 LSTM\n",
    "- - -"
   ]
  },
  {
   "cell_type": "code",
   "execution_count": null,
   "metadata": {},
   "outputs": [],
   "source": []
  },
  {
   "cell_type": "code",
   "execution_count": null,
   "metadata": {},
   "outputs": [],
   "source": []
  },
  {
   "cell_type": "code",
   "execution_count": null,
   "metadata": {},
   "outputs": [],
   "source": []
  },
  {
   "cell_type": "code",
   "execution_count": null,
   "metadata": {},
   "outputs": [],
   "source": []
  },
  {
   "cell_type": "code",
   "execution_count": null,
   "metadata": {},
   "outputs": [],
   "source": []
  },
  {
   "cell_type": "code",
   "execution_count": null,
   "metadata": {},
   "outputs": [],
   "source": []
  },
  {
   "cell_type": "code",
   "execution_count": null,
   "metadata": {},
   "outputs": [],
   "source": []
  },
  {
   "cell_type": "code",
   "execution_count": null,
   "metadata": {},
   "outputs": [],
   "source": []
  }
 ],
 "metadata": {
  "kernelspec": {
   "display_name": "Python 3",
   "language": "python",
   "name": "python3"
  },
  "language_info": {
   "codemirror_mode": {
    "name": "ipython",
    "version": 3
   },
   "file_extension": ".py",
   "mimetype": "text/x-python",
   "name": "python",
   "nbconvert_exporter": "python",
   "pygments_lexer": "ipython3",
   "version": "3.6.5"
  }
 },
 "nbformat": 4,
 "nbformat_minor": 2
}
