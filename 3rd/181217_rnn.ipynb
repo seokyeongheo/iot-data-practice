{
 "cells": [
  {
   "cell_type": "code",
   "execution_count": 8,
   "metadata": {},
   "outputs": [],
   "source": [
    "%matplotlib inline\n",
    "from matplotlib import rcParams\n",
    "rcParams['font.family'] = 'sans-serif'"
   ]
  },
  {
   "cell_type": "code",
   "execution_count": 2,
   "metadata": {},
   "outputs": [
    {
     "data": {
      "text/html": [
       "<div>\n",
       "<style scoped>\n",
       "    .dataframe tbody tr th:only-of-type {\n",
       "        vertical-align: middle;\n",
       "    }\n",
       "\n",
       "    .dataframe tbody tr th {\n",
       "        vertical-align: top;\n",
       "    }\n",
       "\n",
       "    .dataframe thead th {\n",
       "        text-align: right;\n",
       "    }\n",
       "</style>\n",
       "<table border=\"1\" class=\"dataframe\">\n",
       "  <thead>\n",
       "    <tr style=\"text-align: right;\">\n",
       "      <th></th>\n",
       "      <th>age</th>\n",
       "      <th>workclass</th>\n",
       "      <th>education</th>\n",
       "      <th>marital.status</th>\n",
       "      <th>occupation</th>\n",
       "      <th>relationship</th>\n",
       "      <th>race</th>\n",
       "      <th>sex</th>\n",
       "      <th>capital.gain</th>\n",
       "      <th>capital.loss</th>\n",
       "      <th>hours.per.week</th>\n",
       "      <th>native.country</th>\n",
       "      <th>income</th>\n",
       "    </tr>\n",
       "  </thead>\n",
       "  <tbody>\n",
       "    <tr>\n",
       "      <th>32556</th>\n",
       "      <td>22</td>\n",
       "      <td>Private</td>\n",
       "      <td>Some-college</td>\n",
       "      <td>Never-married</td>\n",
       "      <td>Protective-serv</td>\n",
       "      <td>Not-in-family</td>\n",
       "      <td>White</td>\n",
       "      <td>Male</td>\n",
       "      <td>0</td>\n",
       "      <td>0</td>\n",
       "      <td>40</td>\n",
       "      <td>United-States</td>\n",
       "      <td>&lt;=50K</td>\n",
       "    </tr>\n",
       "    <tr>\n",
       "      <th>32557</th>\n",
       "      <td>27</td>\n",
       "      <td>Private</td>\n",
       "      <td>Assoc-acdm</td>\n",
       "      <td>Married-civ-spouse</td>\n",
       "      <td>Tech-support</td>\n",
       "      <td>Wife</td>\n",
       "      <td>White</td>\n",
       "      <td>Female</td>\n",
       "      <td>0</td>\n",
       "      <td>0</td>\n",
       "      <td>38</td>\n",
       "      <td>United-States</td>\n",
       "      <td>&lt;=50K</td>\n",
       "    </tr>\n",
       "    <tr>\n",
       "      <th>32558</th>\n",
       "      <td>40</td>\n",
       "      <td>Private</td>\n",
       "      <td>HS-grad</td>\n",
       "      <td>Married-civ-spouse</td>\n",
       "      <td>Machine-op-inspct</td>\n",
       "      <td>Husband</td>\n",
       "      <td>White</td>\n",
       "      <td>Male</td>\n",
       "      <td>0</td>\n",
       "      <td>0</td>\n",
       "      <td>40</td>\n",
       "      <td>United-States</td>\n",
       "      <td>&gt;50K</td>\n",
       "    </tr>\n",
       "    <tr>\n",
       "      <th>32559</th>\n",
       "      <td>58</td>\n",
       "      <td>Private</td>\n",
       "      <td>HS-grad</td>\n",
       "      <td>Widowed</td>\n",
       "      <td>Adm-clerical</td>\n",
       "      <td>Unmarried</td>\n",
       "      <td>White</td>\n",
       "      <td>Female</td>\n",
       "      <td>0</td>\n",
       "      <td>0</td>\n",
       "      <td>40</td>\n",
       "      <td>United-States</td>\n",
       "      <td>&lt;=50K</td>\n",
       "    </tr>\n",
       "    <tr>\n",
       "      <th>32560</th>\n",
       "      <td>22</td>\n",
       "      <td>Private</td>\n",
       "      <td>HS-grad</td>\n",
       "      <td>Never-married</td>\n",
       "      <td>Adm-clerical</td>\n",
       "      <td>Own-child</td>\n",
       "      <td>White</td>\n",
       "      <td>Male</td>\n",
       "      <td>0</td>\n",
       "      <td>0</td>\n",
       "      <td>20</td>\n",
       "      <td>United-States</td>\n",
       "      <td>&lt;=50K</td>\n",
       "    </tr>\n",
       "  </tbody>\n",
       "</table>\n",
       "</div>"
      ],
      "text/plain": [
       "       age workclass     education      marital.status         occupation  \\\n",
       "32556   22   Private  Some-college       Never-married    Protective-serv   \n",
       "32557   27   Private    Assoc-acdm  Married-civ-spouse       Tech-support   \n",
       "32558   40   Private       HS-grad  Married-civ-spouse  Machine-op-inspct   \n",
       "32559   58   Private       HS-grad             Widowed       Adm-clerical   \n",
       "32560   22   Private       HS-grad       Never-married       Adm-clerical   \n",
       "\n",
       "        relationship   race     sex  capital.gain  capital.loss  \\\n",
       "32556  Not-in-family  White    Male             0             0   \n",
       "32557           Wife  White  Female             0             0   \n",
       "32558        Husband  White    Male             0             0   \n",
       "32559      Unmarried  White  Female             0             0   \n",
       "32560      Own-child  White    Male             0             0   \n",
       "\n",
       "       hours.per.week native.country income  \n",
       "32556              40  United-States  <=50K  \n",
       "32557              38  United-States  <=50K  \n",
       "32558              40  United-States   >50K  \n",
       "32559              40  United-States  <=50K  \n",
       "32560              20  United-States  <=50K  "
      ]
     },
     "execution_count": 2,
     "metadata": {},
     "output_type": "execute_result"
    }
   ],
   "source": [
    "import pandas as pd\n",
    "\n",
    "file = '/Users/quartz/data/collabo/adult.csv'\n",
    "data_raw = pd.read_csv(file)\n",
    "data_raw.tail()"
   ]
  },
  {
   "cell_type": "markdown",
   "metadata": {},
   "source": [
    "### EDA"
   ]
  },
  {
   "cell_type": "code",
   "execution_count": 3,
   "metadata": {},
   "outputs": [
    {
     "data": {
      "text/plain": [
       "<=50K    24720\n",
       ">50K      7841\n",
       "Name: income, dtype: int64"
      ]
     },
     "execution_count": 3,
     "metadata": {},
     "output_type": "execute_result"
    }
   ],
   "source": [
    "# dependent variable(y) <=50K = 1, >50K = 0\n",
    "\n",
    "data_raw.income.value_counts()"
   ]
  },
  {
   "cell_type": "code",
   "execution_count": 4,
   "metadata": {},
   "outputs": [
    {
     "data": {
      "text/plain": [
       "36    898\n",
       "31    888\n",
       "34    886\n",
       "23    877\n",
       "35    876\n",
       "33    875\n",
       "28    867\n",
       "30    861\n",
       "37    858\n",
       "25    841\n",
       "27    835\n",
       "32    828\n",
       "38    827\n",
       "39    816\n",
       "29    813\n",
       "41    808\n",
       "24    798\n",
       "40    794\n",
       "26    785\n",
       "42    780\n",
       "43    770\n",
       "22    765\n",
       "20    753\n",
       "46    737\n",
       "45    734\n",
       "44    724\n",
       "21    720\n",
       "19    712\n",
       "47    708\n",
       "50    602\n",
       "     ... \n",
       "60    312\n",
       "61    300\n",
       "62    258\n",
       "63    230\n",
       "64    208\n",
       "65    178\n",
       "67    151\n",
       "66    150\n",
       "68    120\n",
       "69    108\n",
       "70     89\n",
       "71     72\n",
       "72     67\n",
       "73     64\n",
       "74     51\n",
       "76     46\n",
       "75     45\n",
       "90     43\n",
       "77     29\n",
       "78     23\n",
       "80     22\n",
       "79     22\n",
       "81     20\n",
       "82     12\n",
       "84     10\n",
       "83      6\n",
       "85      3\n",
       "88      3\n",
       "87      1\n",
       "86      1\n",
       "Name: age, Length: 73, dtype: int64"
      ]
     },
     "execution_count": 4,
     "metadata": {},
     "output_type": "execute_result"
    }
   ],
   "source": [
    "# age\n",
    "\n",
    "data_raw.age.value_counts()"
   ]
  },
  {
   "cell_type": "code",
   "execution_count": 5,
   "metadata": {},
   "outputs": [
    {
     "data": {
      "text/plain": [
       "Private             22696\n",
       "Self-emp-not-inc     2541\n",
       "Local-gov            2093\n",
       "?                    1836\n",
       "State-gov            1298\n",
       "Self-emp-inc         1116\n",
       "Federal-gov           960\n",
       "Without-pay            14\n",
       "Never-worked            7\n",
       "Name: workclass, dtype: int64"
      ]
     },
     "execution_count": 5,
     "metadata": {},
     "output_type": "execute_result"
    }
   ],
   "source": [
    "# workclass\n",
    "\n",
    "data_raw.workclass.value_counts()"
   ]
  },
  {
   "cell_type": "code",
   "execution_count": 6,
   "metadata": {},
   "outputs": [
    {
     "data": {
      "text/plain": [
       "HS-grad         10501\n",
       "Some-college     7291\n",
       "Bachelors        5355\n",
       "Masters          1723\n",
       "Assoc-voc        1382\n",
       "11th             1175\n",
       "Assoc-acdm       1067\n",
       "10th              933\n",
       "7th-8th           646\n",
       "Prof-school       576\n",
       "9th               514\n",
       "12th              433\n",
       "Doctorate         413\n",
       "5th-6th           333\n",
       "1st-4th           168\n",
       "Preschool          51\n",
       "Name: education, dtype: int64"
      ]
     },
     "execution_count": 6,
     "metadata": {},
     "output_type": "execute_result"
    }
   ],
   "source": [
    "data_raw.education.value_counts()"
   ]
  },
  {
   "cell_type": "code",
   "execution_count": 5,
   "metadata": {},
   "outputs": [
    {
     "data": {
      "text/html": [
       "<div>\n",
       "<style scoped>\n",
       "    .dataframe tbody tr th:only-of-type {\n",
       "        vertical-align: middle;\n",
       "    }\n",
       "\n",
       "    .dataframe tbody tr th {\n",
       "        vertical-align: top;\n",
       "    }\n",
       "\n",
       "    .dataframe thead th {\n",
       "        text-align: right;\n",
       "    }\n",
       "</style>\n",
       "<table border=\"1\" class=\"dataframe\">\n",
       "  <thead>\n",
       "    <tr style=\"text-align: right;\">\n",
       "      <th></th>\n",
       "      <th>age</th>\n",
       "      <th>income</th>\n",
       "    </tr>\n",
       "  </thead>\n",
       "  <tbody>\n",
       "    <tr>\n",
       "      <th>32556</th>\n",
       "      <td>90</td>\n",
       "      <td>0</td>\n",
       "    </tr>\n",
       "    <tr>\n",
       "      <th>32557</th>\n",
       "      <td>90</td>\n",
       "      <td>0</td>\n",
       "    </tr>\n",
       "    <tr>\n",
       "      <th>32558</th>\n",
       "      <td>90</td>\n",
       "      <td>0</td>\n",
       "    </tr>\n",
       "    <tr>\n",
       "      <th>32559</th>\n",
       "      <td>90</td>\n",
       "      <td>0</td>\n",
       "    </tr>\n",
       "    <tr>\n",
       "      <th>32560</th>\n",
       "      <td>90</td>\n",
       "      <td>0</td>\n",
       "    </tr>\n",
       "  </tbody>\n",
       "</table>\n",
       "</div>"
      ],
      "text/plain": [
       "       age  income\n",
       "32556   90       0\n",
       "32557   90       0\n",
       "32558   90       0\n",
       "32559   90       0\n",
       "32560   90       0"
      ]
     },
     "execution_count": 5,
     "metadata": {},
     "output_type": "execute_result"
    }
   ],
   "source": [
    "data_revise = data_raw[['age', 'income']]\n",
    "data_revise.sort_values(by='age', inplace=True)\n",
    "data_revise = data_revise.reset_index(drop=True)\n",
    "data_revise.income = data_revise.income.apply(lambda x : 0 if x == '<=50K' else 1)\n",
    "data_revise.tail()"
   ]
  },
  {
   "cell_type": "code",
   "execution_count": 9,
   "metadata": {},
   "outputs": [
    {
     "data": {
      "text/plain": [
       "<matplotlib.collections.PathCollection at 0x10cface48>"
      ]
     },
     "execution_count": 9,
     "metadata": {},
     "output_type": "execute_result"
    },
    {
     "data": {
      "image/png": "[encoded data removed]",
      "text/plain": [
       "<Figure size 432x288 with 1 Axes>"
      ]
     },
     "metadata": {},
     "output_type": "display_data"
    }
   ],
   "source": [
    "x = data_revise.age\n",
    "y = data_revise.income\n",
    "\n",
    "plt.scatter(x, y)"
   ]
  },
  {
   "cell_type": "markdown",
   "metadata": {},
   "source": [
    "### preprocessing"
   ]
  },
  {
   "cell_type": "code",
   "execution_count": 11,
   "metadata": {},
   "outputs": [
    {
     "data": {
      "text/html": [
       "<div>\n",
       "<style scoped>\n",
       "    .dataframe tbody tr th:only-of-type {\n",
       "        vertical-align: middle;\n",
       "    }\n",
       "\n",
       "    .dataframe tbody tr th {\n",
       "        vertical-align: top;\n",
       "    }\n",
       "\n",
       "    .dataframe thead th {\n",
       "        text-align: right;\n",
       "    }\n",
       "</style>\n",
       "<table border=\"1\" class=\"dataframe\">\n",
       "  <thead>\n",
       "    <tr style=\"text-align: right;\">\n",
       "      <th></th>\n",
       "      <th>age</th>\n",
       "      <th>income</th>\n",
       "    </tr>\n",
       "  </thead>\n",
       "  <tbody>\n",
       "    <tr>\n",
       "      <th>32556</th>\n",
       "      <td>90</td>\n",
       "      <td>0</td>\n",
       "    </tr>\n",
       "    <tr>\n",
       "      <th>32557</th>\n",
       "      <td>90</td>\n",
       "      <td>0</td>\n",
       "    </tr>\n",
       "    <tr>\n",
       "      <th>32558</th>\n",
       "      <td>90</td>\n",
       "      <td>0</td>\n",
       "    </tr>\n",
       "    <tr>\n",
       "      <th>32559</th>\n",
       "      <td>90</td>\n",
       "      <td>0</td>\n",
       "    </tr>\n",
       "    <tr>\n",
       "      <th>32560</th>\n",
       "      <td>90</td>\n",
       "      <td>0</td>\n",
       "    </tr>\n",
       "  </tbody>\n",
       "</table>\n",
       "</div>"
      ],
      "text/plain": [
       "       age  income\n",
       "32556   90       0\n",
       "32557   90       0\n",
       "32558   90       0\n",
       "32559   90       0\n",
       "32560   90       0"
      ]
     },
     "execution_count": 11,
     "metadata": {},
     "output_type": "execute_result"
    }
   ],
   "source": [
    "data_revise.tail()"
   ]
  },
  {
   "cell_type": "code",
   "execution_count": 22,
   "metadata": {},
   "outputs": [],
   "source": [
    "data = data_revise.age"
   ]
  },
  {
   "cell_type": "code",
   "execution_count": 23,
   "metadata": {},
   "outputs": [
    {
     "data": {
      "text/plain": [
       "((32557, 5), array([[17, 17, 17, 17, 17],\n",
       "        [17, 17, 17, 17, 17],\n",
       "        [17, 17, 17, 17, 17],\n",
       "        ...,\n",
       "        [90, 90, 90, 90, 90],\n",
       "        [90, 90, 90, 90, 90],\n",
       "        [90, 90, 90, 90, 90]]))"
      ]
     },
     "execution_count": 23,
     "metadata": {},
     "output_type": "execute_result"
    }
   ],
   "source": [
    "def seq2dataset(seq, window_size):\n",
    "\n",
    "    dataset = []\n",
    "    for i in range(len(seq)-window_size):\n",
    "        subset = seq[i:(i+window_size+1)]\n",
    "        dataset.append(subset)\n",
    "    return np.array(dataset)\n",
    "\n",
    "dataset = seq2dataset(data, window_size=4)\n",
    "dataset.shape, dataset"
   ]
  },
  {
   "cell_type": "code",
   "execution_count": 24,
   "metadata": {},
   "outputs": [
    {
     "data": {
      "text/plain": [
       "(17, 90)"
      ]
     },
     "execution_count": 24,
     "metadata": {},
     "output_type": "execute_result"
    }
   ],
   "source": [
    "# scaling\n",
    "\n",
    "min_value = min(data)\n",
    "max_value = max(data)\n",
    "\n",
    "min_value, max_value"
   ]
  },
  {
   "cell_type": "code",
   "execution_count": 33,
   "metadata": {},
   "outputs": [
    {
     "name": "stderr",
     "output_type": "stream",
     "text": [
      "/usr/local/lib/python3.6/site-packages/sklearn/utils/validation.py:590: DataConversionWarning: Data with input dtype int64 was converted to float64 by MinMaxScaler.\n",
      "  warnings.warn(msg, DataConversionWarning)\n"
     ]
    }
   ],
   "source": [
    "from sklearn.preprocessing import MinMaxScaler\n",
    "\n",
    "scaler = MinMaxScaler()\n",
    "dataset = scaler.fit_transform(dataset)\n",
    "X_train = dataset.copy()"
   ]
  },
  {
   "cell_type": "code",
   "execution_count": 40,
   "metadata": {},
   "outputs": [],
   "source": [
    "from keras.utils import np_utils\n",
    "import keras\n",
    "\n",
    "y_train = data_revise.income\n",
    "y_train = y_train[:-4]\n",
    "y_train = np_utils.to_categorical(y_train)"
   ]
  },
  {
   "cell_type": "code",
   "execution_count": 41,
   "metadata": {},
   "outputs": [
    {
     "data": {
      "text/plain": [
       "((32557, 5), (32557, 2))"
      ]
     },
     "execution_count": 41,
     "metadata": {},
     "output_type": "execute_result"
    }
   ],
   "source": [
    "X_train.shape, y_train.shape"
   ]
  },
  {
   "cell_type": "markdown",
   "metadata": {},
   "source": [
    "### modeling"
   ]
  },
  {
   "cell_type": "code",
   "execution_count": 42,
   "metadata": {},
   "outputs": [],
   "source": [
    "# 손실 이력 클래스 정의\n",
    "class LossHistory(keras.callbacks.Callback):\n",
    "    \n",
    "    def init(self):\n",
    "        self.losses = []\n",
    "        \n",
    "    def on_epoch_end(self, batch, logs={}):\n",
    "        self.losses.append(logs.get('loss'))\n",
    "        \n",
    "history = LossHistory() \n",
    "history.init()"
   ]
  },
  {
   "cell_type": "code",
   "execution_count": 43,
   "metadata": {},
   "outputs": [],
   "source": [
    "import numpy as np\n",
    "\n",
    "from keras.models import Sequential\n",
    "from keras.layers import Conv2D\n",
    "from keras.layers import MaxPooling2D\n",
    "from keras.layers import Flatten\n",
    "from keras.layers import Dense,LSTM"
   ]
  },
  {
   "cell_type": "code",
   "execution_count": 44,
   "metadata": {},
   "outputs": [],
   "source": [
    "model = Sequential()\n",
    "model.add(Dense(128, input_dim=5, activation='relu'))\n",
    "model.add(Dense(128, activation='relu'))\n",
    "model.add(Dense(2, activation='softmax'))\n",
    "model.compile(loss='categorical_crossentropy', optimizer='adam', metrics=['accuracy'])"
   ]
  },
  {
   "cell_type": "code",
   "execution_count": 46,
   "metadata": {},
   "outputs": [
    {
     "name": "stdout",
     "output_type": "stream",
     "text": [
      "Epoch 1/100\n",
      " - 3s - loss: 0.5040 - acc: 0.7583\n",
      "Epoch 2/100\n",
      " - 2s - loss: 0.4888 - acc: 0.7592\n",
      "Epoch 3/100\n",
      " - 2s - loss: 0.4879 - acc: 0.7592\n",
      "Epoch 4/100\n",
      " - 2s - loss: 0.4875 - acc: 0.7592\n",
      "Epoch 5/100\n",
      " - 2s - loss: 0.4870 - acc: 0.7592\n",
      "Epoch 6/100\n",
      " - 2s - loss: 0.4867 - acc: 0.7592\n",
      "Epoch 7/100\n",
      " - 2s - loss: 0.4862 - acc: 0.7592\n",
      "Epoch 8/100\n",
      " - 2s - loss: 0.4859 - acc: 0.7592\n",
      "Epoch 9/100\n",
      " - 2s - loss: 0.4859 - acc: 0.7592\n",
      "Epoch 10/100\n",
      " - 2s - loss: 0.4861 - acc: 0.7592\n",
      "Epoch 11/100\n",
      " - 2s - loss: 0.4859 - acc: 0.7592\n",
      "Epoch 12/100\n",
      " - 2s - loss: 0.4861 - acc: 0.7592\n",
      "Epoch 13/100\n",
      " - 2s - loss: 0.4855 - acc: 0.7592\n",
      "Epoch 14/100\n",
      " - 2s - loss: 0.4856 - acc: 0.7592\n",
      "Epoch 15/100\n",
      " - 2s - loss: 0.4860 - acc: 0.7592\n",
      "Epoch 16/100\n",
      " - 2s - loss: 0.4857 - acc: 0.7592\n",
      "Epoch 17/100\n",
      " - 2s - loss: 0.4856 - acc: 0.7592\n",
      "Epoch 18/100\n",
      " - 2s - loss: 0.4858 - acc: 0.7592\n",
      "Epoch 19/100\n",
      " - 2s - loss: 0.4856 - acc: 0.7592\n",
      "Epoch 20/100\n",
      " - 2s - loss: 0.4856 - acc: 0.7592\n",
      "Epoch 21/100\n",
      " - 2s - loss: 0.4854 - acc: 0.7592\n",
      "Epoch 22/100\n",
      " - 2s - loss: 0.4855 - acc: 0.7592\n",
      "Epoch 23/100\n",
      " - 2s - loss: 0.4855 - acc: 0.7592\n",
      "Epoch 24/100\n",
      " - 2s - loss: 0.4855 - acc: 0.7592\n",
      "Epoch 25/100\n",
      " - 2s - loss: 0.4855 - acc: 0.7592\n",
      "Epoch 26/100\n",
      " - 2s - loss: 0.4856 - acc: 0.7592\n",
      "Epoch 27/100\n",
      " - 2s - loss: 0.4857 - acc: 0.7592\n",
      "Epoch 28/100\n",
      " - 2s - loss: 0.4854 - acc: 0.7592\n",
      "Epoch 29/100\n",
      " - 2s - loss: 0.4856 - acc: 0.7592\n",
      "Epoch 30/100\n",
      " - 2s - loss: 0.4855 - acc: 0.7592\n",
      "Epoch 31/100\n",
      " - 2s - loss: 0.4854 - acc: 0.7592\n",
      "Epoch 32/100\n",
      " - 2s - loss: 0.4852 - acc: 0.7592\n",
      "Epoch 33/100\n",
      " - 2s - loss: 0.4853 - acc: 0.7592\n",
      "Epoch 34/100\n",
      " - 2s - loss: 0.4853 - acc: 0.7592\n",
      "Epoch 35/100\n",
      " - 2s - loss: 0.4852 - acc: 0.7592\n",
      "Epoch 36/100\n",
      " - 2s - loss: 0.4851 - acc: 0.7592\n",
      "Epoch 37/100\n",
      " - 2s - loss: 0.4852 - acc: 0.7592\n",
      "Epoch 38/100\n",
      " - 2s - loss: 0.4853 - acc: 0.7592\n",
      "Epoch 39/100\n",
      " - 2s - loss: 0.4851 - acc: 0.7592\n",
      "Epoch 40/100\n",
      " - 2s - loss: 0.4852 - acc: 0.7592\n",
      "Epoch 41/100\n",
      " - 2s - loss: 0.4852 - acc: 0.7592\n",
      "Epoch 42/100\n",
      " - 2s - loss: 0.4852 - acc: 0.7592\n",
      "Epoch 43/100\n",
      " - 2s - loss: 0.4853 - acc: 0.7592\n",
      "Epoch 44/100\n",
      " - 2s - loss: 0.4853 - acc: 0.7592\n",
      "Epoch 45/100\n",
      " - 2s - loss: 0.4853 - acc: 0.7592\n",
      "Epoch 46/100\n",
      " - 2s - loss: 0.4854 - acc: 0.7592\n",
      "Epoch 47/100\n",
      " - 2s - loss: 0.4851 - acc: 0.7592\n",
      "Epoch 48/100\n",
      " - 2s - loss: 0.4851 - acc: 0.7592\n",
      "Epoch 49/100\n",
      " - 2s - loss: 0.4852 - acc: 0.7592\n",
      "Epoch 50/100\n",
      " - 2s - loss: 0.4852 - acc: 0.7592\n",
      "Epoch 51/100\n",
      " - 2s - loss: 0.4850 - acc: 0.7592\n",
      "Epoch 52/100\n",
      " - 2s - loss: 0.4851 - acc: 0.7592\n",
      "Epoch 53/100\n",
      " - 2s - loss: 0.4850 - acc: 0.7592\n",
      "Epoch 54/100\n",
      " - 2s - loss: 0.4852 - acc: 0.7592\n",
      "Epoch 55/100\n",
      " - 2s - loss: 0.4852 - acc: 0.7592\n",
      "Epoch 56/100\n",
      " - 2s - loss: 0.4848 - acc: 0.7592\n",
      "Epoch 57/100\n",
      " - 2s - loss: 0.4852 - acc: 0.7592\n",
      "Epoch 58/100\n",
      " - 2s - loss: 0.4852 - acc: 0.7592\n",
      "Epoch 59/100\n",
      " - 2s - loss: 0.4851 - acc: 0.7592\n",
      "Epoch 60/100\n",
      " - 2s - loss: 0.4852 - acc: 0.7592\n",
      "Epoch 61/100\n",
      " - 2s - loss: 0.4852 - acc: 0.7592\n",
      "Epoch 62/100\n",
      " - 2s - loss: 0.4850 - acc: 0.7592\n",
      "Epoch 63/100\n",
      " - 2s - loss: 0.4851 - acc: 0.7592\n",
      "Epoch 64/100\n",
      " - 2s - loss: 0.4851 - acc: 0.7592\n",
      "Epoch 65/100\n",
      " - 2s - loss: 0.4852 - acc: 0.7592\n",
      "Epoch 66/100\n",
      " - 2s - loss: 0.4851 - acc: 0.7592\n",
      "Epoch 67/100\n",
      " - 2s - loss: 0.4850 - acc: 0.7592\n",
      "Epoch 68/100\n",
      " - 2s - loss: 0.4851 - acc: 0.7592\n",
      "Epoch 69/100\n",
      " - 2s - loss: 0.4849 - acc: 0.7592\n",
      "Epoch 70/100\n",
      " - 2s - loss: 0.4850 - acc: 0.7592\n",
      "Epoch 71/100\n",
      " - 2s - loss: 0.4850 - acc: 0.7592\n",
      "Epoch 72/100\n",
      " - 2s - loss: 0.4851 - acc: 0.7592\n",
      "Epoch 73/100\n",
      " - 2s - loss: 0.4851 - acc: 0.7592\n",
      "Epoch 74/100\n",
      " - 2s - loss: 0.4851 - acc: 0.7592\n",
      "Epoch 75/100\n",
      " - 2s - loss: 0.4850 - acc: 0.7592\n",
      "Epoch 76/100\n",
      " - 2s - loss: 0.4851 - acc: 0.7592\n",
      "Epoch 77/100\n",
      " - 2s - loss: 0.4851 - acc: 0.7592\n",
      "Epoch 78/100\n",
      " - 2s - loss: 0.4851 - acc: 0.7592\n",
      "Epoch 79/100\n",
      " - 2s - loss: 0.4850 - acc: 0.7592\n",
      "Epoch 80/100\n",
      " - 2s - loss: 0.4850 - acc: 0.7592\n",
      "Epoch 81/100\n",
      " - 2s - loss: 0.4851 - acc: 0.7592\n",
      "Epoch 82/100\n",
      " - 2s - loss: 0.4850 - acc: 0.7592\n",
      "Epoch 83/100\n",
      " - 2s - loss: 0.4850 - acc: 0.7592\n",
      "Epoch 84/100\n",
      " - 2s - loss: 0.4851 - acc: 0.7592\n",
      "Epoch 85/100\n",
      " - 2s - loss: 0.4848 - acc: 0.7592\n",
      "Epoch 86/100\n",
      " - 2s - loss: 0.4849 - acc: 0.7592\n",
      "Epoch 87/100\n",
      " - 2s - loss: 0.4850 - acc: 0.7592\n",
      "Epoch 88/100\n",
      " - 2s - loss: 0.4850 - acc: 0.7592\n",
      "Epoch 89/100\n",
      " - 2s - loss: 0.4852 - acc: 0.7592\n",
      "Epoch 90/100\n",
      " - 2s - loss: 0.4850 - acc: 0.7592\n",
      "Epoch 91/100\n",
      " - 2s - loss: 0.4850 - acc: 0.7592\n",
      "Epoch 92/100\n",
      " - 2s - loss: 0.4849 - acc: 0.7592\n",
      "Epoch 93/100\n",
      " - 2s - loss: 0.4850 - acc: 0.7592\n",
      "Epoch 94/100\n",
      " - 2s - loss: 0.4851 - acc: 0.7592\n",
      "Epoch 95/100\n",
      " - 2s - loss: 0.4850 - acc: 0.7592\n",
      "Epoch 96/100\n",
      " - 2s - loss: 0.4851 - acc: 0.7592\n",
      "Epoch 97/100\n",
      " - 2s - loss: 0.4850 - acc: 0.7592\n",
      "Epoch 98/100\n",
      " - 2s - loss: 0.4850 - acc: 0.7592\n",
      "Epoch 99/100\n",
      " - 2s - loss: 0.4851 - acc: 0.7592\n",
      "Epoch 100/100\n",
      " - 2s - loss: 0.4848 - acc: 0.7592\n"
     ]
    },
    {
     "data": {
      "text/plain": [
       "<keras.callbacks.History at 0x10e278940>"
      ]
     },
     "execution_count": 46,
     "metadata": {},
     "output_type": "execute_result"
    }
   ],
   "source": [
    "model.fit(X_train, y_train, epochs=100, batch_size=30, verbose=2, callbacks=[history])"
   ]
  },
  {
   "cell_type": "code",
   "execution_count": 47,
   "metadata": {},
   "outputs": [
    {
     "data": {
      "image/png": "[encoded data removed]",
      "text/plain": [
       "<Figure size 432x288 with 1 Axes>"
      ]
     },
     "metadata": {},
     "output_type": "display_data"
    }
   ],
   "source": [
    "# loss function graph\n",
    "\n",
    "plt.plot(history.losses)\n",
    "plt.ylabel('loss')\n",
    "plt.xlabel('epoch')\n",
    "plt.legend(['train'], loc='upper left')\n",
    "plt.show()"
   ]
  },
  {
   "cell_type": "code",
   "execution_count": 48,
   "metadata": {},
   "outputs": [
    {
     "name": "stdout",
     "output_type": "stream",
     "text": [
      "32557/32557 [==============================] - 1s 23us/step\n",
      "acc: 75.92%\n"
     ]
    }
   ],
   "source": [
    "scores = model.evaluate(X_train, y_train)\n",
    "print(\"%s: %.2f%%\" %(model.metrics_names[1], scores[1]*100))"
   ]
  },
  {
   "cell_type": "markdown",
   "metadata": {},
   "source": [
    "### 결론\n",
    "\n",
    "- sequence하지 않은 데이터를 RNN 모델에 넣고 돌리니 제대로 학습이 이루어지지 않는다. \n",
    "- 데이터에 따라 걸맞는 알고리즘을 사용해야 퍼포먼스도 좋고, 비용(시간, 파워)도 줄일 수 있다."
   ]
  },
  {
   "cell_type": "code",
   "execution_count": null,
   "metadata": {},
   "outputs": [],
   "source": []
  },
  {
   "cell_type": "code",
   "execution_count": null,
   "metadata": {},
   "outputs": [],
   "source": []
  },
  {
   "cell_type": "code",
   "execution_count": null,
   "metadata": {},
   "outputs": [],
   "source": []
  }
 ],
 "metadata": {
  "kernelspec": {
   "display_name": "Python 3",
   "language": "python",
   "name": "python3"
  },
  "language_info": {
   "codemirror_mode": {
    "name": "ipython",
    "version": 3
   },
   "file_extension": ".py",
   "mimetype": "text/x-python",
   "name": "python",
   "nbconvert_exporter": "python",
   "pygments_lexer": "ipython3",
   "version": "3.6.5"
  }
 },
 "nbformat": 4,
 "nbformat_minor": 2
}
