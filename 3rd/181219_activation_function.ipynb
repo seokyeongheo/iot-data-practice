{
 "cells": [
  {
   "cell_type": "markdown",
   "metadata": {},
   "source": [
    "# Activation Function\n",
    "\n",
    "#### datascienceschool.net, ratsgo.github.io, 밑바닥부터 시작하는 딥러닝, CS231n을 참고했습니다.\n",
    "\n",
    "---\n",
    "\n",
    "- 활성화 함수란?\n",
    "    - 활성화 함수(activation function)은 입력 신호의 총합을 출력 신호로 변환하는 함수입니다. \n",
    "    - 활성화 함수는 입력 신호 총합의 활성화 여부를 결정하는 역할을 합니다. \n",
    "\n",
    "$$a = b + w_1x_1 + w_2x_2$$\n",
    "$$y = h(a)$$\n",
    "\n",
    "- 활성화 함수의 종류\n",
    "\n",
    "    1. 시그모이드 함수(sigmoid function)\n",
    "        - 시그모이드 함수는 비선형 함수로 아래와 같은 식을 지니는 함수입니다. 시그모이드 함수는 특정 임계값을 기준으로 출력을 분류합니다. \n",
    "        - 입력값이 크거나 작을 때 - 시그모이드 함수에서 1 혹은 0으로 수렴하기 시작하는 부분 - 는 그래디언트값이 지나치게 작아지고, 연산이 무거워집니다. \n",
    "        - 범위가 [0, 1] 이기 때문에 그래디언트가 양수 혹은 음수인지에 따라 loss에 대한 가중치의 그래디언트가 양수 혹은 음수가 됩니다. $$h(x) = \\frac{1}{1 + exp(-x)}$$\n",
    "    2. 하이퍼탄젠트 함수(Hypertangent function)\n",
    "        - 하이퍼탄젠트 함수는 그레디언트 감소 현상(gradient vanishing problem)을 줄이는 활성화 함수입니다.\n",
    "        - 시그모이드 함수는 범위가 0부터 1까지인데 반하여, 하이퍼탄젠트 함수는 -1부터 1까지 입니다. \n",
    "$$tanh(a) = \\frac{e^a - e^-a}{e^a + e^-a} = 2\\sigma(2a) - 1$$\n",
    "$$tanh' (x) = 1 - tanh^2 (x)$$\n",
    "    3. 렐루 함수(Rectified Linear Unit - ReLU function)\n",
    "        - 렐루 함수는 입력이 0을 넘으면 그 입력을 그대로 출력하고, 0 이하면 0을 출력하는 함수로 아래와 같은 식을 지닙니다. \n",
    "        $$h(x) = \\begin{cases} x \\; (x > 0) \\\\ 0 \\; (x <= 0) \\end{cases}$$\n",
    "        - 가중치의 총합 a가 큰 경우에도 기울기가 1로 유지되기 때문에, a가 커도 그레디언트 감소 현상이 발생하지 않습니다. \n",
    "        - 미분도 편리하여 계산복잡도가 낮습니다.  \n",
    "        - CNN처럼 레이어의 수가 많은 경우에 유용합니다.\n",
    "    4. Leaky 렐루\n",
    "        - Leaky 렐루는 렐루 함수의 그래디언트가 죽는 현상을 방지하기 위해 제안되었으며 아래의 식과 같습니다. \n",
    "        $$f(x) = \\text{max}(0.01x, x)$$\n",
    "        - x가 음수일 때 그래디언트가 0.01배라는 것을 제외하고는 렐루 함수와 같습니다."
   ]
  }
 ],
 "metadata": {
  "kernelspec": {
   "display_name": "Python 3",
   "language": "python",
   "name": "python3"
  },
  "language_info": {
   "codemirror_mode": {
    "name": "ipython",
    "version": 3
   },
   "file_extension": ".py",
   "mimetype": "text/x-python",
   "name": "python",
   "nbconvert_exporter": "python",
   "pygments_lexer": "ipython3",
   "version": "3.6.5"
  }
 },
 "nbformat": 4,
 "nbformat_minor": 2
}
